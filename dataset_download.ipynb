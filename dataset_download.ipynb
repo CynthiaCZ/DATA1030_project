{
 "cells": [
  {
   "cell_type": "code",
   "execution_count": 1,
   "id": "f680d305",
   "metadata": {},
   "outputs": [
    {
     "name": "stdout",
     "output_type": "stream",
     "text": [
      "Collecting kaggle\n",
      "  Using cached kaggle-1.5.12-py3-none-any.whl\n",
      "Requirement already satisfied: tqdm in /Users/zhangchengyue/opt/anaconda3/envs/data1030_env/lib/python3.10/site-packages (from kaggle) (4.64.1)\n",
      "Requirement already satisfied: six>=1.10 in /Users/zhangchengyue/opt/anaconda3/envs/data1030_env/lib/python3.10/site-packages (from kaggle) (1.16.0)\n",
      "Requirement already satisfied: requests in /Users/zhangchengyue/opt/anaconda3/envs/data1030_env/lib/python3.10/site-packages (from kaggle) (2.28.1)\n",
      "Requirement already satisfied: python-dateutil in /Users/zhangchengyue/opt/anaconda3/envs/data1030_env/lib/python3.10/site-packages (from kaggle) (2.8.2)\n",
      "Requirement already satisfied: urllib3 in /Users/zhangchengyue/opt/anaconda3/envs/data1030_env/lib/python3.10/site-packages (from kaggle) (1.26.11)\n",
      "Requirement already satisfied: certifi in /Users/zhangchengyue/opt/anaconda3/envs/data1030_env/lib/python3.10/site-packages (from kaggle) (2022.6.15)\n",
      "Requirement already satisfied: python-slugify in /Users/zhangchengyue/.local/lib/python3.10/site-packages (from kaggle) (6.1.2)\n",
      "Requirement already satisfied: text-unidecode>=1.3 in /Users/zhangchengyue/.local/lib/python3.10/site-packages (from python-slugify->kaggle) (1.3)\n",
      "Requirement already satisfied: charset-normalizer<3,>=2 in /Users/zhangchengyue/opt/anaconda3/envs/data1030_env/lib/python3.10/site-packages (from requests->kaggle) (2.1.1)\n",
      "Requirement already satisfied: idna<4,>=2.5 in /Users/zhangchengyue/opt/anaconda3/envs/data1030_env/lib/python3.10/site-packages (from requests->kaggle) (3.3)\n",
      "Installing collected packages: kaggle\n",
      "Successfully installed kaggle-1.5.12\n"
     ]
    }
   ],
   "source": [
    "!pip install kaggle"
   ]
  },
  {
   "cell_type": "code",
   "execution_count": 7,
   "id": "219e3881",
   "metadata": {},
   "outputs": [
    {
     "name": "stdout",
     "output_type": "stream",
     "text": [
      "mkdir: /Users/zhangchengyue/.kaggle: File exists\r\n"
     ]
    }
   ],
   "source": [
    "!mkdir /Users/zhangchengyue/.kaggle"
   ]
  },
  {
   "cell_type": "code",
   "execution_count": 8,
   "id": "660ea6c9",
   "metadata": {},
   "outputs": [],
   "source": [
    "!cp /Users/zhangchengyue/Downloads/kaggle.json /Users/zhangchengyue/.kaggle"
   ]
  },
  {
   "cell_type": "code",
   "execution_count": 9,
   "id": "c0783aad",
   "metadata": {},
   "outputs": [
    {
     "name": "stdout",
     "output_type": "stream",
     "text": [
      "kaggle.json\r\n"
     ]
    }
   ],
   "source": [
    "!cd /Users/zhangchengyue/.kaggle/&& ls"
   ]
  },
  {
   "cell_type": "code",
   "execution_count": 14,
   "id": "720fbbee",
   "metadata": {},
   "outputs": [
    {
     "name": "stdout",
     "output_type": "stream",
     "text": [
      "Warning: Your Kaggle API key is readable by other users on this system! To fix this, you can run 'chmod 600 /Users/zhangchengyue/.kaggle/kaggle.json'\n",
      "ref                                                        title                                          size  lastUpdated          downloadCount  voteCount  usabilityRating  \n",
      "---------------------------------------------------------  --------------------------------------------  -----  -------------------  -------------  ---------  ---------------  \n",
      "imohtn/video-games-rating-by-esrb                          Video Games Rating By 'ESRB'                   42KB  2021-01-29 09:46:53           3174         95  1.0              \n",
      "fabiolabusch/alcohol-and-drug-consumption-of-german-teens  Alcohol and Drug Consumption of German Teens    5KB  2017-09-14 22:42:43           1686         23  0.64705884       \n",
      "fda/adverse-pharmaceuticals-events                         Adverse Pharmaceuticals Events                959MB  2017-09-07 19:42:24           1553         72  0.7058824        \n",
      "obeykhadija/drug-consumptions-uci                          Drug Consumptions (UCI)                       112KB  2021-09-26 12:54:03            954         14  0.7058824        \n",
      "aldavis24/uci-drug-consumption                             UCI Drug Consumption                           56KB  2021-09-11 22:23:39             25          2  0.5294118        \n",
      "anasmemon/pharmaceutical-drug-consumption                  Pharmaceutical Drug Consumption                 3KB  2022-05-28 19:21:54             26          1  0.11764706       \n",
      "remulusbi/who-atcddd                                       WHO ATC/DDD                                    66KB  2021-12-21 20:13:23             26          6  0.7058824        \n",
      "piero98/clasificador-de-imagenes-de-drogas                 CLASIFICADOR DE IMAGENES DE DROGAS             17MB  2021-09-12 21:13:31             23          4  0.1875           \n"
     ]
    }
   ],
   "source": [
    "!kaggle datasets list -s 'Drug Consumption'"
   ]
  },
  {
   "cell_type": "code",
   "execution_count": 15,
   "id": "4fc9f56d",
   "metadata": {},
   "outputs": [
    {
     "name": "stdout",
     "output_type": "stream",
     "text": [
      "Warning: Your Kaggle API key is readable by other users on this system! To fix this, you can run 'chmod 600 /Users/zhangchengyue/.kaggle/kaggle.json'\n",
      "Downloading drug-consumptions-uci.zip to /Users/zhangchengyue/Desktop/1030_project\n",
      "  0%|                                                | 0.00/112k [00:00<?, ?B/s]\n",
      "100%|████████████████████████████████████████| 112k/112k [00:00<00:00, 4.39MB/s]\n"
     ]
    }
   ],
   "source": [
    "!kaggle datasets download -d 'obeykhadija/drug-consumptions-uci' -p /Users/zhangchengyue/Desktop/1030_project"
   ]
  }
 ],
 "metadata": {
  "kernelspec": {
   "display_name": "Python 3 (ipykernel)",
   "language": "python",
   "name": "python3"
  },
  "language_info": {
   "codemirror_mode": {
    "name": "ipython",
    "version": 3
   },
   "file_extension": ".py",
   "mimetype": "text/x-python",
   "name": "python",
   "nbconvert_exporter": "python",
   "pygments_lexer": "ipython3",
   "version": "3.10.5"
  }
 },
 "nbformat": 4,
 "nbformat_minor": 5
}
